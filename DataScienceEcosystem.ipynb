{
 "cells": [
  {
   "cell_type": "markdown",
   "id": "7c6256cb-3d70-4a9c-890e-4f258caa2127",
   "metadata": {},
   "source": [
    "# Data Science Tools and Ecosystem"
   ]
  },
  {
   "cell_type": "markdown",
   "id": "85b52f79-0719-4985-b497-8826068c5f9c",
   "metadata": {},
   "source": [
    "In this notebook, Data Science Tools and Ecosystem are summerized."
   ]
  },
  {
   "cell_type": "markdown",
   "id": "2cbbae97-04e3-426d-a9c9-329ff2eabf78",
   "metadata": {},
   "source": [
    "**Objectives:**\n",
    "- List popular languages for Data Science\n",
    "- List commonly used libraries for Data Science\n",
    "- Display some Data Science tools\n",
    "- Show some basic coding"
   ]
  },
  {
   "cell_type": "markdown",
   "id": "403bd0f0-5595-4ebc-b702-95848d97109c",
   "metadata": {},
   "source": [
    "**Some of the popular languages that Data Scientists use are:**\n",
    "1. Python\n",
    "2. R\n",
    "3. Scala\n",
    "4. Java\n",
    "5. Julia"
   ]
  },
  {
   "cell_type": "markdown",
   "id": "ec34eb6d-2a95-4d96-8d19-8e121cb07284",
   "metadata": {},
   "source": [
    "**Some of the commonly used libraries used by Data Scientists include:**\n",
    "1. Matplotlib\n",
    "2. Pandas\n",
    "3. NumPy\n",
    "4. TensorFlow\n",
    "5. SciPy"
   ]
  },
  {
   "cell_type": "markdown",
   "id": "88826e83-01af-425e-8152-e5f7c9afb9f9",
   "metadata": {},
   "source": [
    "| **Data Science Tools** |\n",
    "| ------------------ |\n",
    "| RStudio            |\n",
    "| Apache Spark       |\n",
    "| Jupyter Notebook   |\n",
    "| Visual Studio Code |"
   ]
  },
  {
   "cell_type": "markdown",
   "id": "9e789ed0-9825-441a-b6d1-2d3f7dbc4dea",
   "metadata": {},
   "source": [
    "### Below are a few examples of evaluating arithmetic expressions in Python "
   ]
  },
  {
   "cell_type": "code",
   "execution_count": 10,
   "id": "f9634136-ef62-49c4-90cd-a078fed6545c",
   "metadata": {},
   "outputs": [
    {
     "data": {
      "text/plain": [
       "17"
      ]
     },
     "execution_count": 10,
     "metadata": {},
     "output_type": "execute_result"
    }
   ],
   "source": [
    "# This is a simple arithmetic expression to multiply then add integers\n",
    "(3*4)+5"
   ]
  },
  {
   "cell_type": "code",
   "execution_count": 16,
   "id": "1392b579-f7b0-4e5e-ae2a-8891959ea38e",
   "metadata": {},
   "outputs": [
    {
     "data": {
      "text/plain": [
       "3.3333333333333335"
      ]
     },
     "execution_count": 16,
     "metadata": {},
     "output_type": "execute_result"
    }
   ],
   "source": [
    "# This will convert 200 minutes to hours by dividing by 60\n",
    "200/60"
   ]
  },
  {
   "cell_type": "markdown",
   "id": "5c739570-4419-4699-8b94-efedf8ad6ac4",
   "metadata": {},
   "source": [
    "## Author: \n",
    "Klemen "
   ]
  },
  {
   "cell_type": "code",
   "execution_count": null,
   "id": "43e8aa67-8688-46cc-89ac-616b26f79742",
   "metadata": {},
   "outputs": [],
   "source": []
  }
 ],
 "metadata": {
  "kernelspec": {
   "display_name": "Python 3 (ipykernel)",
   "language": "python",
   "name": "python3"
  },
  "language_info": {
   "codemirror_mode": {
    "name": "ipython",
    "version": 3
   },
   "file_extension": ".py",
   "mimetype": "text/x-python",
   "name": "python",
   "nbconvert_exporter": "python",
   "pygments_lexer": "ipython3",
   "version": "3.12.4"
  }
 },
 "nbformat": 4,
 "nbformat_minor": 5
}
